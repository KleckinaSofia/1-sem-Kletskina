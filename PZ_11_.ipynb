{
  "nbformat": 4,
  "nbformat_minor": 0,
  "metadata": {
    "colab": {
      "name": "PZ_11_.ipynb",
      "provenance": [],
      "authorship_tag": "ABX9TyPCFMXH+UCNyW3bnXQ6j4QJ",
      "include_colab_link": true
    },
    "kernelspec": {
      "name": "python3",
      "display_name": "Python 3"
    },
    "language_info": {
      "name": "python"
    }
  },
  "cells": [
    {
      "cell_type": "markdown",
      "metadata": {
        "id": "view-in-github",
        "colab_type": "text"
      },
      "source": [
        "<a href=\"https://colab.research.google.com/github/KleckinaSofia/1-sem-Kletskina/blob/master/PZ_11_.ipynb\" target=\"_parent\"><img src=\"https://colab.research.google.com/assets/colab-badge.svg\" alt=\"Open In Colab\"/></a>"
      ]
    },
    {
      "cell_type": "code",
      "execution_count": 1,
      "metadata": {
        "colab": {
          "base_uri": "https://localhost:8080/"
        },
        "id": "AaH6dqWTbXn0",
        "outputId": "7d2892b9-652b-445d-e8fb-2eee08a70c93"
      },
      "outputs": [
        {
          "output_type": "stream",
          "name": "stdout",
          "text": [
            "введите число A: 642\n",
            "введите число B: 62\n",
            "данное высказываение ложно\n"
          ]
        }
      ],
      "source": [
        "a = int(input(\"введите число A: \"))\n",
        "b = int(input(\"введите число B: \"))\n",
        "while type(a) != int:\n",
        "    try:\n",
        "        a= int(a)\n",
        "    except ValueError:\n",
        "        print('Вы ввели нецельное число А')\n",
        "        a = input('Введите число А: ')\n",
        "else:\n",
        "    pass\n",
        "while type(b) != int:\n",
        "     try:\n",
        "         b = int(b)\n",
        "     except ValueError:\n",
        "         print('Вы ввели нецельное число В')\n",
        "         b = input('Введите число В: ')\n",
        "else:\n",
        "    pass\n",
        "t = (a % 2 == 1) and (b % 2 == 1)\n",
        "if t == True:\n",
        "     print('Данное высказывание истинно')\n",
        "else:\n",
        "    print('данное высказываение ложно')"
      ]
    },
    {
      "cell_type": "markdown",
      "source": [
        "#Даны два целых числа: A, B. Проверить истинность высказывания:\n",
        "#«Каждое из чисел A и B нечетное»."
      ],
      "metadata": {
        "id": "dVxxGSxhbsEq"
      }
    },
    {
      "cell_type": "code",
      "source": [
        "while True:\n",
        "    # Проверка на тип данных переменной P\n",
        "    try:\n",
        "        P =int(input('P ='))\n",
        "        if 0 < P < 25:  # Проверка на натуральность переменной и соответсвии условию\n",
        "            break  # Прерывание цикла\n",
        "        else:\n",
        "            print('Неверные данные:/')\n",
        "\n",
        "    except ValueError:\n",
        "        print('Неправильно ввели:/')\n",
        "K = 0\n",
        "S = 1000\n",
        "while S < 1100:\n",
        "    K +=1\n",
        "    S += S * (P/100)\n",
        "print('Через', K, 'месяцев')\n",
        "print('Итоговый размер вклада=', S)"
      ],
      "metadata": {
        "colab": {
          "base_uri": "https://localhost:8080/"
        },
        "id": "AONh387pcJfP",
        "outputId": "667296a3-0b03-474a-d037-eaea8178e6f2"
      },
      "execution_count": 2,
      "outputs": [
        {
          "output_type": "stream",
          "name": "stdout",
          "text": [
            "P =54\n",
            "Неверные данные:/\n",
            "P =3\n",
            "Через 4 месяцев\n",
            "Итоговый размер вклада= 1125.50881\n"
          ]
        }
      ]
    },
    {
      "cell_type": "markdown",
      "source": [
        "# Начальный вклад в банке равен 1000 руб. Через каждый месяц размер вклада увеличивается\n",
        "# на P процентов от имеющейся суммы (P — вещественное число, 0 < P < 25). По данному P\n",
        "# определить, через сколько месяцев размер вклада превысит 1100 руб., и вывести найденное\n",
        "# количество месяцев K (целое число) и итоговый размер вклада S (вещественное число)."
      ],
      "metadata": {
        "id": "8C30KI8_cicg"
      }
    },
    {
      "cell_type": "code",
      "source": [
        "b = int(input('Введите количсетво строк: '))\n",
        "def function1(a='*', i=1):\n",
        "    while i<=b:\n",
        "        print(a*i)\n",
        "        i+=1\n",
        "function1()"
      ],
      "metadata": {
        "colab": {
          "base_uri": "https://localhost:8080/"
        },
        "id": "BX7zc7bJcvf8",
        "outputId": "2c22eb33-180f-4608-b1a9-9b347e3c4cb3"
      },
      "execution_count": 3,
      "outputs": [
        {
          "output_type": "stream",
          "name": "stdout",
          "text": [
            "Введите количсетво строк: 6\n",
            "*\n",
            "**\n",
            "***\n",
            "****\n",
            "*****\n",
            "******\n"
          ]
        }
      ]
    },
    {
      "cell_type": "markdown",
      "source": [
        "# Вариант 8\n",
        "# Составить программу, в которой функция построит изображение, в котром в первой строке 1 звездочка, во второй\n",
        "# 2, в третьей - 3, ..., в строке с номером m - m звездочек."
      ],
      "metadata": {
        "id": "RZYMwPsLc5pe"
      }
    }
  ]
}